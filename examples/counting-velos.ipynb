{
 "cells": [
  {
   "cell_type": "markdown",
   "metadata": {},
   "source": [
    "# Counting velos with Julia\n",
    "\n",
    "A [notebook](https://opendata.utou.ch/presentations/pyzurich%202014.9/) was presented a few years back by [@loleg](http://github.com/loleg) at a [PyZürich meetup](http://www.meetup.com/pyzurich/events/192324292/), serving a brief introduction to loading and processing open data with the [Pandas](http://pandas.pydata.org/) open source data analysis library. The second part of this notebook dealt with visualizing government data from bike counters *(Daten der permanenten Velozählstellen)*. The analysis is heavily inspired by prior work by [Dr. Ralph Straumann](http://geo.ebp.ch/2014/02/18/blick-in-die-werkzeugkiste-offene-daten-in-r-teil1/) (see also [part 2](http://geo.ebp.ch/2014/04/04/blick-in-die-werkzeugkiste-offene-daten-in-r-teil-2/), [part 3](http://geo.ebp.ch/2014/04/25/blick-in-die-werkzeugkiste-offene-daten-in-r-teil-3/)).\n",
    "\n",
    "Since mobility is a popular subject in Switzerland, and the data source continues to be a source of interest I have rewritten the example using the [Julia language](http://julialang.org/). To run this notebook interactively, install Julia locally and follow the instructions at [IJulia.jl](https://github.com/JuliaLang/IJulia.jl) to set up a notebook server. Or use [JuliaBox](http://www.juliabox.com) to run this code in the cloud.\n",
    "\n",
    "So let's get started and pull in some useful libraries."
   ]
  },
  {
   "cell_type": "code",
   "execution_count": 1,
   "metadata": {
    "collapsed": true
   },
   "outputs": [],
   "source": [
    "include(\"../src/TableSchema.jl\")\n",
    "using TableSchema\n",
    "using Requests\n",
    "import Requests: get"
   ]
  },
  {
   "cell_type": "markdown",
   "metadata": {},
   "source": [
    "The City of Zürich has an [open data portal](http://data.stadt-zuerich.ch) that puts together data from all kinds of departments and makes it more accessible to the general public. Let's use this to learn something about this lovely city. Do you like riding your bike through town - or maybe you would like to know just where all those cyclists are rushing off to in the morning? \n",
    "\n",
    "Download the latest data with [Requests.jl](https://github.com/JuliaWeb/Requests.jl), and take a peek inside."
   ]
  },
  {
   "cell_type": "code",
   "execution_count": 2,
   "metadata": {},
   "outputs": [
    {
     "data": {
      "text/plain": [
       "7-element Array{String,1}:\n",
       " \"\\ufeff\\\"fk_zaehler\\\"\"\n",
       " \"datum\"               \n",
       " \"velo_in\"             \n",
       " \"velo_out\"            \n",
       " \"fuss_in\"             \n",
       " \"fuss_out\"            \n",
       " \"objectid\"            "
      ]
     },
     "execution_count": 2,
     "metadata": {},
     "output_type": "execute_result"
    }
   ],
   "source": [
    "verkehr_filename = \"2018verkehrszaehlungenwertefussgaengervelo.csv\"\n",
    "verkehr_url = \"https://data.stadt-zuerich.ch/dataset/verkehrszaehlungen_werte_fussgaenger_velo/resource/13af0d7d-41e6-4212-aea3-cd04a4646665/download/\"\n",
    "verkehr_url = verkehr_url * verkehr_filename\n",
    "if !(isfile(verkehr_filename))\n",
    "    verkehr_request = get(verkehr_url)\n",
    "    save(verkehr_request, verkehr_filename)\n",
    "end\n",
    "t = Table(verkehr_filename)\n",
    "t.headers"
   ]
  },
  {
   "cell_type": "markdown",
   "metadata": {},
   "source": [
    "Now let's infer the schema, and create a Data Package."
   ]
  },
  {
   "cell_type": "code",
   "execution_count": 5,
   "metadata": {},
   "outputs": [
    {
     "data": {
      "text/plain": [
       "7-element Array{Tuple{String,String},1}:\n",
       " (\"\\ufeff\\\"fk_zaehler\\\"\", \"string\")\n",
       " (\"datum\", \"string\")               \n",
       " (\"velo_in\", \"integer\")            \n",
       " (\"velo_out\", \"integer\")           \n",
       " (\"fuss_in\", \"integer\")            \n",
       " (\"fuss_out\", \"integer\")           \n",
       " (\"objectid\", \"integer\")           "
      ]
     },
     "execution_count": 5,
     "metadata": {},
     "output_type": "execute_result"
    }
   ],
   "source": [
    "tr = TableSchema.read(t)\n",
    "s = Schema()\n",
    "TableSchema.infer(s, tr, t.headers)\n",
    "[ (f.name, f.typed) for f in s.fields ]"
   ]
  }
 ],
 "metadata": {
  "kernelspec": {
   "display_name": "Julia 0.6.1",
   "language": "julia",
   "name": "julia-0.6"
  },
  "language_info": {
   "file_extension": ".jl",
   "mimetype": "application/julia",
   "name": "julia",
   "version": "0.6.1"
  }
 },
 "nbformat": 4,
 "nbformat_minor": 2
}
